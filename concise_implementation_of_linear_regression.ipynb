{
  "nbformat": 4,
  "nbformat_minor": 0,
  "metadata": {
    "colab": {
      "name": "concise implementation of linear regression.ipynb",
      "provenance": [],
      "authorship_tag": "ABX9TyMHEinb+ZpopJnufWC5woWx",
      "include_colab_link": true
    },
    "kernelspec": {
      "name": "python3",
      "display_name": "Python 3"
    },
    "language_info": {
      "name": "python"
    }
  },
  "cells": [
    {
      "cell_type": "markdown",
      "metadata": {
        "id": "view-in-github",
        "colab_type": "text"
      },
      "source": [
        "<a href=\"https://colab.research.google.com/github/RxnAch/DeepLearning/blob/main/concise_implementation_of_linear_regression.ipynb\" target=\"_parent\"><img src=\"https://colab.research.google.com/assets/colab-badge.svg\" alt=\"Open In Colab\"/></a>"
      ]
    },
    {
      "cell_type": "code",
      "metadata": {
        "id": "czgsrd9YYFxW"
      },
      "source": [
        "!pip install -U d2l"
      ],
      "execution_count": null,
      "outputs": []
    },
    {
      "cell_type": "code",
      "metadata": {
        "id": "Egu1n578Vm0i"
      },
      "source": [
        "import numpy \n",
        "import torch\n",
        "from torch.utils import data \n",
        "from d2l import torch as d2l"
      ],
      "execution_count": 2,
      "outputs": []
    },
    {
      "cell_type": "code",
      "metadata": {
        "id": "KoLIRt0VYPiT"
      },
      "source": [
        "def synthetic_data(w,b,num_rows):\n",
        "  X = torch.normal(0,1,(num_rows,len(w)))\n",
        "  y = torch.matmul(X,w)+b #y = X.w + b\n",
        "  y+= torch.normal(0,0.01,y.shape) #y = X.w+b+noises\n",
        "  return X,y"
      ],
      "execution_count": 3,
      "outputs": []
    },
    {
      "cell_type": "code",
      "metadata": {
        "id": "hrSplHw4Zdwk"
      },
      "source": [
        "true_w = torch.tensor([2,-3.4]) #Actual w while creating that y=X.w+b\n",
        "true_b = 4.2 #Actual b\n",
        "features,labels = d2l.synthetic_data(true_w,true_b,1000) "
      ],
      "execution_count": 4,
      "outputs": []
    },
    {
      "cell_type": "markdown",
      "metadata": {
        "id": "0v1UaRZcP5dW"
      },
      "source": [
        " **Reading the dataset**\n",
        "\n",
        "TensorDataset -> Dataset wrapping tensors.\n",
        "\n",
        "DataLoader ->  It provides an iterable over the given dataset with optional automatic batching."
      ]
    },
    {
      "cell_type": "code",
      "metadata": {
        "colab": {
          "base_uri": "https://localhost:8080/"
        },
        "id": "Tg4wXBAaRT3u",
        "outputId": "88a8e94a-897a-4a70-f4f5-6cde4af789c7"
      },
      "source": [
        "#example for TensorDataset and DataLoader\n",
        "p = torch.tensor([[1,2,3],[4,5,6],[7,8,9],[41,5,62]])#inputs with 3 features(columns)\n",
        "q = torch.tensor([2,5,8,3]) #labels\n",
        "#create tensor dataset(simply dataset)\n",
        "ds = data.TensorDataset(p,q)\n",
        "for i in ds:\n",
        "  print(i)\n",
        "print(\"-----------------------------------------------\")\n",
        "ds_iter = data.DataLoader(ds,batch_size = 2,shuffle = True)\n",
        "for i,data in enumerate(ds_iter):\n",
        "  print(i,data)"
      ],
      "execution_count": 13,
      "outputs": [
        {
          "output_type": "stream",
          "text": [
            "(tensor([1, 2, 3]), tensor(2))\n",
            "(tensor([4, 5, 6]), tensor(5))\n",
            "(tensor([7, 8, 9]), tensor(8))\n",
            "(tensor([41,  5, 62]), tensor(3))\n",
            "-----------------------------------------------\n",
            "0 [tensor([[4, 5, 6],\n",
            "        [7, 8, 9]]), tensor([5, 8])]\n",
            "1 [tensor([[ 1,  2,  3],\n",
            "        [41,  5, 62]]), tensor([2, 3])]\n"
          ],
          "name": "stdout"
        }
      ]
    },
    {
      "cell_type": "code",
      "metadata": {
        "id": "9SgC06yjZw62"
      },
      "source": [
        "def load_array(data_arrays,batch_size,is_train=True):\n",
        "  dataset = data.TensorDataset(*data_arrays)\n",
        "  return data.DataLoader(dataset,batch_size,shuffle = is_train)\n",
        "batch_size = 10\n",
        "data_iter = load_array((features,labels),batch_size)\n"
      ],
      "execution_count": 6,
      "outputs": []
    },
    {
      "cell_type": "code",
      "metadata": {
        "id": "y1IihzCVqPuM"
      },
      "source": [
        "from torch import nn\n",
        "net = nn.Sequential(nn.Linear(2,1)) #Applies a linear transformation to the incoming data: y = X.w^T + b"
      ],
      "execution_count": 7,
      "outputs": []
    },
    {
      "cell_type": "code",
      "metadata": {
        "colab": {
          "base_uri": "https://localhost:8080/"
        },
        "id": "lj16t8eQvwiy",
        "outputId": "2cec3950-07a6-4a28-c530-e79863728d46"
      },
      "source": [
        "net[0].weight.data.normal_(0,0.01) #initialize w for the 1st layer of NN.\n",
        "net[0].bias.data.fill_(0) #initialize b for the first layer of NN.\n",
        "print(f'w : {net[0].weight.data}, b: {net[0].bias.data}')"
      ],
      "execution_count": 8,
      "outputs": [
        {
          "output_type": "stream",
          "text": [
            "w : tensor([[-0.0061,  0.0017]]), b: tensor([0.])\n"
          ],
          "name": "stdout"
        }
      ]
    },
    {
      "cell_type": "markdown",
      "metadata": {
        "id": "dzZnesKTX5NG"
      },
      "source": [
        "The **MSELoss** class computes the mean squared error, also known as squared  L2  norm.\n",
        " By default it returns the average loss over examples."
      ]
    },
    {
      "cell_type": "code",
      "metadata": {
        "id": "H3AQKjtOzl4x"
      },
      "source": [
        "loss = nn.MSELoss() "
      ],
      "execution_count": 9,
      "outputs": []
    },
    {
      "cell_type": "code",
      "metadata": {
        "colab": {
          "base_uri": "https://localhost:8080/"
        },
        "id": "XCeRrzkjYKxN",
        "outputId": "291ffd4f-7a1c-4a2d-e7b7-a0eb3a503f61"
      },
      "source": [
        "for i in net.parameters():\n",
        "  print(i)"
      ],
      "execution_count": 10,
      "outputs": [
        {
          "output_type": "stream",
          "text": [
            "Parameter containing:\n",
            "tensor([[-0.0061,  0.0017]], requires_grad=True)\n",
            "Parameter containing:\n",
            "tensor([0.], requires_grad=True)\n"
          ],
          "name": "stdout"
        }
      ]
    },
    {
      "cell_type": "markdown",
      "metadata": {
        "id": "f2d4n4j3ZFWj"
      },
      "source": [
        "Defining the Optimization Algorithm"
      ]
    },
    {
      "cell_type": "code",
      "metadata": {
        "id": "7tWCKWyY0O7k"
      },
      "source": [
        "trainer = torch.optim.SGD(net.parameters(),lr=.03)  #lr = learning rate set to 0.03"
      ],
      "execution_count": 11,
      "outputs": []
    },
    {
      "cell_type": "code",
      "metadata": {
        "colab": {
          "base_uri": "https://localhost:8080/"
        },
        "id": "C58Avp8J0Xwf",
        "outputId": "2c04e1ca-7413-439f-803d-ee984a25b30a"
      },
      "source": [
        "num_epochs = 3\n",
        "for epoch in range(num_epochs):\n",
        "  for X,y in data_iter:\n",
        "    l = loss(net(X),y)\n",
        "    trainer.zero_grad() #set the gradients to zero before starting backpropagation\n",
        "    # Else the gradient would point in some other direction than the intended direction\n",
        "     #towards the minimum (or maximum, in case of maximization objectives).\n",
        "    l.backward() #calculate gradients during backpropagation in loss wrt parameters\n",
        "    trainer.step() #update the parameters\n",
        "  l = loss(net(features),labels)\n",
        "  print(f'epoch {epoch+1}, loss {l:f}')"
      ],
      "execution_count": 12,
      "outputs": [
        {
          "output_type": "stream",
          "text": [
            "epoch 1, loss 0.000206\n",
            "epoch 2, loss 0.000100\n",
            "epoch 3, loss 0.000101\n"
          ],
          "name": "stdout"
        }
      ]
    },
    {
      "cell_type": "code",
      "metadata": {
        "colab": {
          "base_uri": "https://localhost:8080/"
        },
        "id": "3PKU397z14B9",
        "outputId": "7d24cb92-b317-4bbf-d26c-46c43d87e0e3"
      },
      "source": [
        "w = net[0].weight.data\n",
        "print('error in estimating w:', true_w - w.reshape(true_w.shape))\n",
        "b = net[0].bias.data\n",
        "print('error in estimating b:', true_b - b)"
      ],
      "execution_count": 14,
      "outputs": [
        {
          "output_type": "stream",
          "text": [
            "error in estimating w: tensor([-0.0007, -0.0007])\n",
            "error in estimating b: tensor([0.0001])\n"
          ],
          "name": "stdout"
        }
      ]
    }
  ]
}