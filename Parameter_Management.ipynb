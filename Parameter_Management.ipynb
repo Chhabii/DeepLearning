{
  "nbformat": 4,
  "nbformat_minor": 0,
  "metadata": {
    "colab": {
      "name": "Parameter Management.ipynb",
      "provenance": [],
      "authorship_tag": "ABX9TyPol63pYqwQuUS0U16H1qEa",
      "include_colab_link": true
    },
    "kernelspec": {
      "name": "python3",
      "display_name": "Python 3"
    },
    "language_info": {
      "name": "python"
    }
  },
  "cells": [
    {
      "cell_type": "markdown",
      "metadata": {
        "id": "view-in-github",
        "colab_type": "text"
      },
      "source": [
        "<a href=\"https://colab.research.google.com/github/RxnAch/DeepLearning/blob/main/Parameter_Management.ipynb\" target=\"_parent\"><img src=\"https://colab.research.google.com/assets/colab-badge.svg\" alt=\"Open In Colab\"/></a>"
      ]
    },
    {
      "cell_type": "markdown",
      "metadata": {
        "id": "M7JRP9DvtQq9"
      },
      "source": [
        "#Parameter Management:\n",
        "\n",
        "In this section, we cover the following:\n",
        "- Accessing parameters.\n",
        "- Parameters Initialization.\n",
        "- sharing parameters.\n",
        "\n",
        "Note: **Why Initialize Weights?**\n",
        "\n",
        "The aim of weight initialization is to prevent layer activation outputs from exploding or vanishing during the course of a forward pass through a deep neural network. If either occurs, loss gradients will either be too large or too small to flow backwards beneficially, and the network will take longer to converge, if it is even able to do so at all."
      ]
    },
    {
      "cell_type": "markdown",
      "metadata": {
        "id": "wHN0YTnyt29z"
      },
      "source": [
        "We start by focusing on an MLP with one hidden layer."
      ]
    },
    {
      "cell_type": "code",
      "metadata": {
        "colab": {
          "base_uri": "https://localhost:8080/"
        },
        "id": "HVG7zSgEA6Ww",
        "outputId": "cc3f12f3-0f24-4d7c-b79d-cc3ebaedbbca"
      },
      "source": [
        "import torch \n",
        "import torch.nn as nn\n",
        "net = nn.Sequential(nn.Linear(4,8),nn.ReLU(),nn.Linear(8,1))\n",
        "X = torch.rand(size = (2,4))\n",
        "net(X)"
      ],
      "execution_count": 50,
      "outputs": [
        {
          "output_type": "execute_result",
          "data": {
            "text/plain": [
              "tensor([[-0.3549],\n",
              "        [-0.2534]], grad_fn=<AddmmBackward>)"
            ]
          },
          "metadata": {
            "tags": []
          },
          "execution_count": 50
        }
      ]
    },
    {
      "cell_type": "markdown",
      "metadata": {
        "id": "1Zq_eS55uV0c"
      },
      "source": [
        "#Parameter Access\n",
        "\n",
        "Let us start with how to access parameters. When a model is defined via **Sequential** class, we can access any layer by indexing the model as it were a list."
      ]
    },
    {
      "cell_type": "code",
      "metadata": {
        "colab": {
          "base_uri": "https://localhost:8080/"
        },
        "id": "rlvCS-khBtjO",
        "outputId": "14e5c5a9-f4a2-459f-a5ae-a7e79c90cabf"
      },
      "source": [
        "print(net[0].state_dict()) "
      ],
      "execution_count": 8,
      "outputs": [
        {
          "output_type": "stream",
          "text": [
            "OrderedDict([('weight', tensor([[-0.4871, -0.3918, -0.0052,  0.1247],\n",
            "        [-0.3138,  0.3640, -0.2196,  0.2406],\n",
            "        [ 0.4354,  0.4369,  0.4841,  0.1310],\n",
            "        [-0.0352,  0.3481, -0.2443, -0.4267],\n",
            "        [-0.4063, -0.3515, -0.1838,  0.3964],\n",
            "        [ 0.1065,  0.0137, -0.0958,  0.1224],\n",
            "        [ 0.3132, -0.4663,  0.4263, -0.0062],\n",
            "        [-0.4908, -0.4490, -0.3703,  0.1133]])), ('bias', tensor([ 0.1719,  0.2837, -0.4237, -0.4036, -0.1499, -0.1344, -0.1332,  0.1167]))])\n"
          ],
          "name": "stdout"
        }
      ]
    },
    {
      "cell_type": "code",
      "metadata": {
        "colab": {
          "base_uri": "https://localhost:8080/"
        },
        "id": "GzkT0g_eCXUw",
        "outputId": "ced0e149-c189-4254-c206-02dd81d45881"
      },
      "source": [
        "print(net[2].state_dict())"
      ],
      "execution_count": 10,
      "outputs": [
        {
          "output_type": "stream",
          "text": [
            "OrderedDict([('weight', tensor([[ 0.2642, -0.2312, -0.2126, -0.3069, -0.2572,  0.0727,  0.2971,  0.0013]])), ('bias', tensor([-0.3293]))])\n"
          ],
          "name": "stdout"
        }
      ]
    },
    {
      "cell_type": "markdown",
      "metadata": {
        "id": "zhmFFkF3vAw8"
      },
      "source": [
        "#Targeted Parameters"
      ]
    },
    {
      "cell_type": "markdown",
      "metadata": {
        "id": "4Nub9tV8viYk"
      },
      "source": [
        "Note that each parameter is represented as an instance of the parameter class. To do anything useful with the parameters, we first need to access the underlying numerical values. There are several ways to do this. Some are simpler while others are more general. The following code extracts the bias from the second neural network layer, which returns a parameter class instance, and further accesses that parameter’s value."
      ]
    },
    {
      "cell_type": "code",
      "metadata": {
        "colab": {
          "base_uri": "https://localhost:8080/"
        },
        "id": "Ota6Tt67EzLh",
        "outputId": "7882b075-b2c8-4f36-9729-3b418cfa827f"
      },
      "source": [
        "print(type(net[2].bias))\n",
        "print(net[2].bias)\n",
        "print(net[2].bias.data)"
      ],
      "execution_count": 13,
      "outputs": [
        {
          "output_type": "stream",
          "text": [
            "<class 'torch.nn.parameter.Parameter'>\n",
            "Parameter containing:\n",
            "tensor([-0.3293], requires_grad=True)\n",
            "tensor([-0.3293])\n"
          ],
          "name": "stdout"
        }
      ]
    },
    {
      "cell_type": "markdown",
      "metadata": {
        "id": "iv8eJIlHvoxr"
      },
      "source": [
        "Parameters are complex objects, containing values, gradients, and additional information. That’s why we need to request the value explicitly."
      ]
    },
    {
      "cell_type": "markdown",
      "metadata": {
        "id": "OBvSMH9evrW0"
      },
      "source": [
        "In addition to the value, each parameter also allows us to access the gradient. Because we have not invoked backpropagation for this network yet, it is in its initial state."
      ]
    },
    {
      "cell_type": "code",
      "metadata": {
        "colab": {
          "base_uri": "https://localhost:8080/"
        },
        "id": "AAZYoPE2GFon",
        "outputId": "aaf28f40-c3fa-41f4-b20e-ee0734bb4809"
      },
      "source": [
        "net[2].weight.grad == None "
      ],
      "execution_count": 14,
      "outputs": [
        {
          "output_type": "execute_result",
          "data": {
            "text/plain": [
              "True"
            ]
          },
          "metadata": {
            "tags": []
          },
          "execution_count": 14
        }
      ]
    },
    {
      "cell_type": "markdown",
      "metadata": {
        "id": "2kxaA3ibvj5F"
      },
      "source": [
        "#All Parameters at Once\n",
        "\n",
        "When we need to perform operations on all parameters, accessing them one-by-one can grow tedious. The situation can grow especially unwieldy when we work with more complex blocks (e.g., nested blocks), since we would need to recurse through the entire tree to extract each sub-block’s parameters. Below we demonstrate accessing the parameters of the first fully-connected layer vs. accessing all layers."
      ]
    },
    {
      "cell_type": "code",
      "metadata": {
        "colab": {
          "base_uri": "https://localhost:8080/"
        },
        "id": "-gxf4uALGkCU",
        "outputId": "a758d28b-81d7-4827-9f37-01b2c1d54a7e"
      },
      "source": [
        "print(*[(name,param.shape) for name,param in net[0].named_parameters()])\n",
        "print(*[(name,param.shape) for name ,param in net.named_parameters()])"
      ],
      "execution_count": 22,
      "outputs": [
        {
          "output_type": "stream",
          "text": [
            "('weight', torch.Size([8, 4])) ('bias', torch.Size([8]))\n",
            "('0.weight', torch.Size([8, 4])) ('0.bias', torch.Size([8])) ('2.weight', torch.Size([1, 8])) ('2.bias', torch.Size([1]))\n"
          ],
          "name": "stdout"
        }
      ]
    },
    {
      "cell_type": "markdown",
      "metadata": {
        "id": "Jx8v8XR1v7Ct"
      },
      "source": [
        "This provides us with another way of accessing the parameters of the network as follows."
      ]
    },
    {
      "cell_type": "code",
      "metadata": {
        "colab": {
          "base_uri": "https://localhost:8080/"
        },
        "id": "9AGfN6HyHZ8P",
        "outputId": "53fd2411-db75-42ab-d388-d0f271a800a1"
      },
      "source": [
        "net.state_dict()['2.bias'].data"
      ],
      "execution_count": 23,
      "outputs": [
        {
          "output_type": "execute_result",
          "data": {
            "text/plain": [
              "tensor([-0.3293])"
            ]
          },
          "metadata": {
            "tags": []
          },
          "execution_count": 23
        }
      ]
    },
    {
      "cell_type": "markdown",
      "metadata": {
        "id": "ANiO_xChv-yL"
      },
      "source": [
        "#Collecting Parameters from Nested Blocks\n",
        "\n",
        "\n",
        "\n"
      ]
    },
    {
      "cell_type": "code",
      "metadata": {
        "colab": {
          "base_uri": "https://localhost:8080/"
        },
        "id": "1PTjjqAfIZYv",
        "outputId": "0c8333c9-60ee-4e3d-9bc9-d890b87c7301"
      },
      "source": [
        "def block1():\n",
        "  return nn.Sequential(nn.Linear(4,8),nn.ReLU(),nn.Linear(8,4),nn.ReLU())\n",
        "\n",
        "def block2():\n",
        "  net = nn.Sequential()\n",
        "  for i in range(4):\n",
        "    net.add_module(f'block{i}',block1())\n",
        "  return net\n",
        "\n",
        "rgnet = nn.Sequential(block2(),nn.Linear(4,1))\n",
        "rgnet(X)\n"
      ],
      "execution_count": 28,
      "outputs": [
        {
          "output_type": "execute_result",
          "data": {
            "text/plain": [
              "tensor([[-0.0613],\n",
              "        [-0.0613]], grad_fn=<AddmmBackward>)"
            ]
          },
          "metadata": {
            "tags": []
          },
          "execution_count": 28
        }
      ]
    },
    {
      "cell_type": "markdown",
      "metadata": {
        "id": "yEaHdZwOwHo9"
      },
      "source": [
        "Now that we have designed the network, let us see how it is organized."
      ]
    },
    {
      "cell_type": "code",
      "metadata": {
        "colab": {
          "base_uri": "https://localhost:8080/"
        },
        "id": "phsIV7QrNBHl",
        "outputId": "5e99a569-ad65-4a6e-ace0-32ab6e5c1636"
      },
      "source": [
        "print(rgnet)"
      ],
      "execution_count": 29,
      "outputs": [
        {
          "output_type": "stream",
          "text": [
            "Sequential(\n",
            "  (0): Sequential(\n",
            "    (block0): Sequential(\n",
            "      (0): Linear(in_features=4, out_features=8, bias=True)\n",
            "      (1): ReLU()\n",
            "      (2): Linear(in_features=8, out_features=4, bias=True)\n",
            "      (3): ReLU()\n",
            "    )\n",
            "    (block1): Sequential(\n",
            "      (0): Linear(in_features=4, out_features=8, bias=True)\n",
            "      (1): ReLU()\n",
            "      (2): Linear(in_features=8, out_features=4, bias=True)\n",
            "      (3): ReLU()\n",
            "    )\n",
            "    (block2): Sequential(\n",
            "      (0): Linear(in_features=4, out_features=8, bias=True)\n",
            "      (1): ReLU()\n",
            "      (2): Linear(in_features=8, out_features=4, bias=True)\n",
            "      (3): ReLU()\n",
            "    )\n",
            "    (block3): Sequential(\n",
            "      (0): Linear(in_features=4, out_features=8, bias=True)\n",
            "      (1): ReLU()\n",
            "      (2): Linear(in_features=8, out_features=4, bias=True)\n",
            "      (3): ReLU()\n",
            "    )\n",
            "  )\n",
            "  (1): Linear(in_features=4, out_features=1, bias=True)\n",
            ")\n"
          ],
          "name": "stdout"
        }
      ]
    },
    {
      "cell_type": "markdown",
      "metadata": {
        "id": "fcE64ztbwNwt"
      },
      "source": [
        "Since the layers are hierarchically nested, we can also access them as though indexing through nested lists."
      ]
    },
    {
      "cell_type": "code",
      "metadata": {
        "colab": {
          "base_uri": "https://localhost:8080/"
        },
        "id": "etOr_2A6OIVU",
        "outputId": "91958918-875f-4564-aa5f-043d84857671"
      },
      "source": [
        "rgnet[0][1][0].bias.data"
      ],
      "execution_count": 30,
      "outputs": [
        {
          "output_type": "execute_result",
          "data": {
            "text/plain": [
              "tensor([ 0.0554, -0.3469, -0.0904, -0.4319,  0.3093, -0.0400,  0.2955,  0.4666])"
            ]
          },
          "metadata": {
            "tags": []
          },
          "execution_count": 30
        }
      ]
    },
    {
      "cell_type": "markdown",
      "metadata": {
        "id": "N9yHhJFdwQxb"
      },
      "source": [
        "#Parameter Initialization\n",
        "Now that we know how to access the parameters, let us look at how to initialize them properly."
      ]
    },
    {
      "cell_type": "markdown",
      "metadata": {
        "id": "ysRbeQdcw1sz"
      },
      "source": [
        "Let us begin by calling on built-in initializers. The code below initializes all weight parameters as Gaussian random variables with standard deviation 0.01, while bias parameters cleared to zero."
      ]
    },
    {
      "cell_type": "code",
      "metadata": {
        "colab": {
          "base_uri": "https://localhost:8080/"
        },
        "id": "jM4r5x2QPcJ_",
        "outputId": "2b84f669-76e7-4ba8-fcab-09bd18b74f54"
      },
      "source": [
        "def init_normal(m):\n",
        "  if type(m) == nn.Linear:\n",
        "    nn.init.normal_(m.weight,mean= 0 ,std=0.01)\n",
        "    nn.init.zeros_(m.bias)\n",
        "net.apply(init_normal)\n",
        "net[0].weight.data,net[0].bias.data[0]"
      ],
      "execution_count": 34,
      "outputs": [
        {
          "output_type": "execute_result",
          "data": {
            "text/plain": [
              "(tensor([[ 8.4527e-03,  1.5895e-03,  5.2931e-05, -4.4746e-03],\n",
              "         [ 1.3336e-02, -2.7191e-03,  1.1000e-03,  1.4206e-02],\n",
              "         [-8.2380e-03, -5.9766e-03,  1.8997e-02, -1.1486e-02],\n",
              "         [ 3.4851e-03, -2.7606e-03,  1.5103e-02,  1.5207e-02],\n",
              "         [ 5.7806e-03,  1.1359e-02, -3.9109e-03,  1.5646e-02],\n",
              "         [ 1.5603e-03,  1.9837e-02,  1.6610e-02,  6.9621e-05],\n",
              "         [-5.7602e-03,  5.6820e-03,  9.2778e-03, -7.6784e-03],\n",
              "         [ 1.3881e-04, -1.4666e-02,  6.0874e-03,  5.7434e-03]]), tensor(0.))"
            ]
          },
          "metadata": {
            "tags": []
          },
          "execution_count": 34
        }
      ]
    },
    {
      "cell_type": "markdown",
      "metadata": {
        "id": "xicii3RMw4TN"
      },
      "source": [
        "We can also initialize all the parameters to a given constant value (say, 1)."
      ]
    },
    {
      "cell_type": "code",
      "metadata": {
        "colab": {
          "base_uri": "https://localhost:8080/"
        },
        "id": "bg8r0I1BThc2",
        "outputId": "618f9022-a979-401f-8896-8feadcc2087e"
      },
      "source": [
        "def init_constant(m):#m for model\n",
        "  if type(m) == nn.Linear:\n",
        "    nn.init.constant_(m.weight,1)\n",
        "    nn.init.zeros_(m.bias)\n",
        "net.apply(init_constant)\n",
        "net[0].weight.data,net[0].bias.data"
      ],
      "execution_count": 36,
      "outputs": [
        {
          "output_type": "execute_result",
          "data": {
            "text/plain": [
              "(tensor([[1., 1., 1., 1.],\n",
              "         [1., 1., 1., 1.],\n",
              "         [1., 1., 1., 1.],\n",
              "         [1., 1., 1., 1.],\n",
              "         [1., 1., 1., 1.],\n",
              "         [1., 1., 1., 1.],\n",
              "         [1., 1., 1., 1.],\n",
              "         [1., 1., 1., 1.]]), tensor([0., 0., 0., 0., 0., 0., 0., 0.]))"
            ]
          },
          "metadata": {
            "tags": []
          },
          "execution_count": 36
        }
      ]
    },
    {
      "cell_type": "markdown",
      "metadata": {
        "id": "lF6_3T_Fw8d7"
      },
      "source": [
        "We can also apply different initializers for certain blocks. For example, below we initialize the first layer with the Xavier initializer and initialize the second layer to a constant value of 42."
      ]
    },
    {
      "cell_type": "code",
      "metadata": {
        "colab": {
          "base_uri": "https://localhost:8080/"
        },
        "id": "ia14VSZ4VhHJ",
        "outputId": "0a8c0ebe-9edb-4736-bd8c-26294f16cc54"
      },
      "source": [
        "def xavier(m):\n",
        "  if type(m) == nn.Linear:\n",
        "    nn.init.xavier_uniform_(m.weight)\n",
        "def init_42(m):\n",
        "  if type(m) == nn.Linear:\n",
        "    nn.init.constant_(m.weight,42)\n",
        "net[0].apply(xavier)\n",
        "net[2].apply(init_42)\n",
        "\n",
        "print(net[0].weight.data)\n",
        "print(net[2].weight.data)"
      ],
      "execution_count": 40,
      "outputs": [
        {
          "output_type": "stream",
          "text": [
            "tensor([[-0.5143, -0.3079, -0.1680, -0.5537],\n",
            "        [ 0.3359,  0.2200,  0.5581,  0.2553],\n",
            "        [-0.5112, -0.3524, -0.6932,  0.0339],\n",
            "        [-0.5928,  0.5188, -0.0776, -0.1287],\n",
            "        [-0.0163, -0.4150,  0.0600, -0.2100],\n",
            "        [-0.0932,  0.1974, -0.3519, -0.1786],\n",
            "        [-0.6719, -0.0134,  0.4952,  0.4949],\n",
            "        [-0.1278, -0.3438,  0.0208, -0.4576]])\n",
            "tensor([[42., 42., 42., 42., 42., 42., 42., 42.]])\n"
          ],
          "name": "stdout"
        }
      ]
    },
    {
      "cell_type": "code",
      "metadata": {
        "colab": {
          "base_uri": "https://localhost:8080/"
        },
        "id": "EDA807n5nk0A",
        "outputId": "43d5675c-e7aa-43f7-eb46-9b1a56759746"
      },
      "source": [
        "def my_init(m):\n",
        "  if type(m)==nn.Linear:\n",
        "    print(\"Init\",*[(name,param.shape) for name,param in m.named_parameters()][0])\n",
        "    nn.init.uniform_(m.weight,-10,10)\n",
        "    m.weight.data *= m.weight.data.abs() >=5\n",
        "net.apply(my_init)\n",
        "net[0].weight\n"
      ],
      "execution_count": 46,
      "outputs": [
        {
          "output_type": "stream",
          "text": [
            "Init weight torch.Size([8, 4])\n",
            "Init weight torch.Size([1, 8])\n"
          ],
          "name": "stdout"
        },
        {
          "output_type": "execute_result",
          "data": {
            "text/plain": [
              "Parameter containing:\n",
              "tensor([[-0.0000, -0.0000,  6.1151,  6.3900],\n",
              "        [-0.0000, -0.0000,  0.0000, -0.0000],\n",
              "        [ 0.0000,  8.5742, -6.2862, -9.9187],\n",
              "        [ 0.0000, -6.2209,  7.1506, -7.6283],\n",
              "        [ 9.5983,  7.0271,  0.0000, -0.0000],\n",
              "        [-0.0000, -6.3133, -0.0000, -0.0000],\n",
              "        [-8.4525, -8.7357,  0.0000, -6.6900],\n",
              "        [-7.0515, -6.9889, -0.0000, -0.0000]], requires_grad=True)"
            ]
          },
          "metadata": {
            "tags": []
          },
          "execution_count": 46
        }
      ]
    },
    {
      "cell_type": "code",
      "metadata": {
        "colab": {
          "base_uri": "https://localhost:8080/"
        },
        "id": "pKCSRSeYp_n_",
        "outputId": "cc0c6f13-3ca2-49f8-9e0a-e7872ab5ffaf"
      },
      "source": [
        "net[0].weight.data[:] +=1\n",
        "net[0].weight.data[0,0] = 42\n",
        "net[0].weight.data"
      ],
      "execution_count": 48,
      "outputs": [
        {
          "output_type": "execute_result",
          "data": {
            "text/plain": [
              "tensor([[42.0000,  2.0000,  8.1151,  8.3900],\n",
              "        [ 2.0000,  2.0000,  2.0000,  2.0000],\n",
              "        [ 2.0000, 10.5742, -4.2862, -7.9187],\n",
              "        [ 2.0000, -4.2209,  9.1506, -5.6283],\n",
              "        [11.5983,  9.0271,  2.0000,  2.0000],\n",
              "        [ 2.0000, -4.3133,  2.0000,  2.0000],\n",
              "        [-6.4525, -6.7357,  2.0000, -4.6900],\n",
              "        [-5.0515, -4.9889,  2.0000,  2.0000]])"
            ]
          },
          "metadata": {
            "tags": []
          },
          "execution_count": 48
        }
      ]
    },
    {
      "cell_type": "markdown",
      "metadata": {
        "id": "3nKU1IvtxG1b"
      },
      "source": [
        "#Sharing Parameters"
      ]
    },
    {
      "cell_type": "markdown",
      "metadata": {
        "id": "Ctya0IUJxMpb"
      },
      "source": [
        "Often, we want to share parameters across multiple layers. Let us see how to do this elegantly"
      ]
    },
    {
      "cell_type": "code",
      "metadata": {
        "colab": {
          "base_uri": "https://localhost:8080/"
        },
        "id": "ypq7fZ4Jq2kJ",
        "outputId": "e820d23f-a710-4bf2-8a76-38e3b9be0e7d"
      },
      "source": [
        "# We need to give the shared layer a name so that we can refer to its\n",
        "# parameters\n",
        "shared = nn.Linear(8, 8)\n",
        "net = nn.Sequential(nn.Linear(4, 8), nn.ReLU(), shared, nn.ReLU(), shared,\n",
        "                    nn.ReLU(), nn.Linear(8, 1))\n",
        "net(X)\n",
        "# Check whether the parameters are the same\n",
        "print(net[2].weight.data[0] == net[4].weight.data[0])\n",
        "net[2].weight.data[0, 0] = 100\n",
        "# Make sure that they are actually the same object rather than just having the\n",
        "# same value\n",
        "print(net[2].weight.data[0] == net[4].weight.data[0])"
      ],
      "execution_count": 51,
      "outputs": [
        {
          "output_type": "stream",
          "text": [
            "tensor([True, True, True, True, True, True, True, True])\n",
            "tensor([True, True, True, True, True, True, True, True])\n"
          ],
          "name": "stdout"
        }
      ]
    }
  ]
}