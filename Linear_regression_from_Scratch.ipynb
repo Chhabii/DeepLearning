{
  "nbformat": 4,
  "nbformat_minor": 0,
  "metadata": {
    "colab": {
      "name": "Linear regression from Scratch.ipynb",
      "provenance": [],
      "authorship_tag": "ABX9TyOoJDm47bjWPzewCsN/9kKg",
      "include_colab_link": true
    },
    "kernelspec": {
      "name": "python3",
      "display_name": "Python 3"
    },
    "language_info": {
      "name": "python"
    }
  },
  "cells": [
    {
      "cell_type": "markdown",
      "metadata": {
        "id": "view-in-github",
        "colab_type": "text"
      },
      "source": [
        "<a href=\"https://colab.research.google.com/github/RxnAch/DeepLearning/blob/main/Linear_regression_from_Scratch.ipynb\" target=\"_parent\"><img src=\"https://colab.research.google.com/assets/colab-badge.svg\" alt=\"Open In Colab\"/></a>"
      ]
    },
    {
      "cell_type": "code",
      "metadata": {
        "id": "c_3tre_YKEUk",
        "colab": {
          "base_uri": "https://localhost:8080/"
        },
        "outputId": "e9ad6a23-75f4-4afb-be4a-12b8bb4b4cc2"
      },
      "source": [
        "from datetime import date\n",
        "today = date.today()\n",
        "print(\"Today's date:\", today)"
      ],
      "execution_count": 13,
      "outputs": [
        {
          "output_type": "stream",
          "text": [
            "Today's date: 2021-05-30\n"
          ],
          "name": "stdout"
        }
      ]
    },
    {
      "cell_type": "code",
      "metadata": {
        "id": "IAg-jUjw-arL"
      },
      "source": [
        "!pip install -U d2l"
      ],
      "execution_count": null,
      "outputs": []
    },
    {
      "cell_type": "code",
      "metadata": {
        "id": "gABdMPyr-IVI"
      },
      "source": [
        "%matplotlib inline\n",
        "import random\n",
        "import torch\n",
        "import numpy as np\n",
        "from d2l import torch as d2l"
      ],
      "execution_count": null,
      "outputs": []
    },
    {
      "cell_type": "code",
      "metadata": {
        "colab": {
          "base_uri": "https://localhost:8080/"
        },
        "id": "WKNNukYF-f9N",
        "outputId": "0922405d-cc2d-46b9-9d6f-112dd8c08947"
      },
      "source": [
        "#Generating the dataset\n",
        "def synthetic_data(w,b,num_examples):\n",
        "  X = torch.normal(0,1,(num_examples,len(w)))\n",
        "  y = torch.matmul(X,w)+b #y = X.w + b\n",
        "  y+= torch.normal(0,0.001,y.shape) #add some noises\n",
        "  return X,y.reshape((-1,1)) \n",
        "true_w = torch.tensor([2,-3.4])\n",
        "true_b = 4.2\n",
        "features , labels = synthetic_data(true_w,true_b,1000)\n",
        "\n",
        "#Reading the dataset\n",
        "def data_iter(batch_size,features,labels): #creating minibatches\n",
        "  num_examples = len(features)\n",
        "  indices = list(range(num_examples)) \n",
        "  random.shuffle(indices)\n",
        "  for i in range(0 ,num_examples,batch_size):\n",
        "    batch_indices = torch.tensor(indices[i:i+batch_size])\n",
        "\n",
        "    yield features[batch_indices],labels[batch_indices]\n",
        "\n",
        "batch_size = 10\n",
        "\n",
        "#Defining the Model\n",
        "\n",
        "def linreg(X,w,b):\n",
        "  return torch.matmul(X,w)+b\n",
        "\n",
        "#Defining the loss function\n",
        "def squared_loss(y_hat,y):\n",
        "  return (y_hat - y.reshape(y_hat.shape))**2 /2\n",
        "\n",
        "#Defining the Optimization Algorithm\n",
        "def sgd(params,lr,batch_size):\n",
        "  with torch.no_grad():\n",
        "    for param in params:\n",
        "      param -= lr * param.grad / batch_size  \n",
        "      param.grad.zero_()\n",
        "      \n",
        "#initializing the model parameters\n",
        "w = torch.normal(0,0.01,size = (2,1),requires_grad = True)\n",
        "b = torch.zeros(1,requires_grad = True)\n",
        "\n",
        "#Training\n",
        "lr = 0.03\n",
        "num_epochs = 3\n",
        "model = linreg\n",
        "loss = squared_loss\n",
        "for epoch in range(num_epochs):\n",
        "  for X,y in data_iter(batch_size,features,labels):\n",
        "    l = loss(model(X,w,b),y)\n",
        "    l.sum().backward() #compute gradient on 'l' w.r.t ['w','b']\n",
        "    sgd([w,b],lr,batch_size) #update parameters using their gradient\n",
        "  with torch.no_grad():\n",
        "    train_l = loss(model(features,w,b),labels)\n",
        "  print(f'epoch {epoch+1},loss {float(train_l.mean()):f}')\n",
        "  "
      ],
      "execution_count": null,
      "outputs": [
        {
          "output_type": "stream",
          "text": [
            "epoch 1,loss 0.037850\n",
            "epoch 2,loss 0.000090\n",
            "epoch 3,loss 0.000001\n"
          ],
          "name": "stdout"
        }
      ]
    },
    {
      "cell_type": "code",
      "metadata": {
        "id": "kL0jj_K0Z7qD"
      },
      "source": [
        ""
      ],
      "execution_count": null,
      "outputs": []
    },
    {
      "cell_type": "code",
      "metadata": {
        "id": "hoNw7xyCZ_DS"
      },
      "source": [
        ""
      ],
      "execution_count": null,
      "outputs": []
    }
  ]
}