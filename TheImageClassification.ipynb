{
  "nbformat": 4,
  "nbformat_minor": 0,
  "metadata": {
    "colab": {
      "name": "TheImageClassification.ipynb",
      "provenance": [],
      "collapsed_sections": [],
      "authorship_tag": "ABX9TyNI5K3u6TFRa5Vph04yrEvC",
      "include_colab_link": true
    },
    "kernelspec": {
      "name": "python3",
      "display_name": "Python 3"
    },
    "language_info": {
      "name": "python"
    }
  },
  "cells": [
    {
      "cell_type": "markdown",
      "metadata": {
        "id": "view-in-github",
        "colab_type": "text"
      },
      "source": [
        "<a href=\"https://colab.research.google.com/github/RxnAch/DeepLearning/blob/main/TheImageClassification.ipynb\" target=\"_parent\"><img src=\"https://colab.research.google.com/assets/colab-badge.svg\" alt=\"Open In Colab\"/></a>"
      ]
    },
    {
      "cell_type": "code",
      "metadata": {
        "id": "yyy_onGlUhwT"
      },
      "source": [
        "!pip install -U d2l"
      ],
      "execution_count": null,
      "outputs": []
    },
    {
      "cell_type": "code",
      "metadata": {
        "id": "ZQCxiNEKTs4Y"
      },
      "source": [
        "#Importing important Libraries\n",
        "%matplotlib inline\n",
        "import torch \n",
        "import torchvision\n",
        "from torch.utils import data\n",
        "from torchvision import transforms\n",
        "from d2l import torch as d2l\n",
        "import matplotlib.pyplot as plt\n",
        "d2l.use_svg_display()"
      ],
      "execution_count": 2,
      "outputs": []
    },
    {
      "cell_type": "code",
      "metadata": {
        "id": "MGVvYyObh1z5"
      },
      "source": [
        "trans = transforms.ToTensor()\n",
        "mnist_train = torchvision.datasets.FashionMNIST(root='/fashionmnist/fashion-mnist_train.csv',\n",
        "                                                  train = True,transform = trans,download = True)\n",
        "mnist_test = torchvision.datasets.FashionMNIST(root='/fashionmnist/fashion-mnist_test.csv',\n",
        "                                                 train = False,transform = trans,download = True)\n",
        "#We have 10 types of clothes in FashionMNIST dataset.\n",
        "def get_fashion_mnist_labels(labels): \n",
        "  text_labels = ['t-shirt/Top', 'trouser', 'pullover', 'dress', 'coat', 'sandal', 'shirt',\n",
        "        'sneaker', 'bag', 'ankle boot']\n",
        "  return text_labels[labels]\n",
        "\n",
        "\n",
        "def load_data_fashion_mnist(batch_size,resize = None):\n",
        "  trans = [transforms.ToTensor()] #Transfer image to tensors.\n",
        "  if resize:\n",
        "    trans.insert(0,transforms.Resize(resize))\n",
        "  trans = transforms.Compose(trans)#Transforms are common image transformations.\n",
        "  #They can be chained together using Compose(like a pipepline). \n",
        "  #Reading the dataset\n",
        "  mnist_train = torchvision.datasets.FashionMNIST(root='/fashionmnist/fashion-mnist_train.csv',\n",
        "                                                  train = True,transform = trans,download = True)\n",
        "  mnist_test = torchvision.datasets.FashionMNIST(root='/fashionmnist/fashion-mnist_test.csv',\n",
        "                                                 train = False,transform = trans,download = True)\n",
        "  return (data.DataLoader(mnist_train,batch_size,shuffle = False,num_workers = 4),\n",
        "          data.DataLoader(mnist_test,batch_size,shuffle= False,num_workers=4))\n",
        "  train_iter,test_iter = load_data_fashion_mnist(32)"
      ],
      "execution_count": 13,
      "outputs": []
    },
    {
      "cell_type": "code",
      "metadata": {
        "colab": {
          "base_uri": "https://localhost:8080/",
          "height": 369
        },
        "id": "uE48--cG0ljy",
        "outputId": "170932e1-0942-4a65-bbc8-22a345c5f89b"
      },
      "source": [
        "image,label = next(iter(mnist_train))\n",
        "plt.imshow(image.squeeze(),cmap = \"gray\")\n",
        "print(get_fashion_mnist_labels(label))"
      ],
      "execution_count": 14,
      "outputs": [
        {
          "output_type": "stream",
          "text": [
            "ankle boot\n"
          ],
          "name": "stdout"
        },
        {
          "output_type": "display_data",
          "data": {
            "text/plain": [
              "<Figure size 432x288 with 1 Axes>"
            ],
            "image/svg+xml": "<?xml version=\"1.0\" encoding=\"utf-8\" standalone=\"no\"?>\n<!DOCTYPE svg PUBLIC \"-//W3C//DTD SVG 1.1//EN\"\n  \"http://www.w3.org/Graphics/SVG/1.1/DTD/svg11.dtd\">\n<!-- Created with matplotlib (https://matplotlib.org/) -->\n<svg height=\"248.518125pt\" version=\"1.1\" viewBox=\"0 0 251.565 248.518125\" width=\"251.565pt\" xmlns=\"http://www.w3.org/2000/svg\" xmlns:xlink=\"http://www.w3.org/1999/xlink\">\n <defs>\n  <style type=\"text/css\">\n*{stroke-linecap:butt;stroke-linejoin:round;}\n  </style>\n </defs>\n <g id=\"figure_1\">\n  <g id=\"patch_1\">\n   <path d=\"M 0 248.518125 \nL 251.565 248.518125 \nL 251.565 0 \nL 0 0 \nz\n\" style=\"fill:none;\"/>\n  </g>\n  <g id=\"axes_1\">\n   <g id=\"patch_2\">\n    <path d=\"M 26.925 224.64 \nL 244.365 224.64 \nL 244.365 7.2 \nL 26.925 7.2 \nz\n\" style=\"fill:#ffffff;\"/>\n   </g>\n   <g clip-path=\"url(#pdb8fa3b662)\">\n    <image height=\"218\" id=\"imageff1e80dae7\" transform=\"scale(1 -1)translate(0 -218)\" width=\"218\" x=\"26.925\" xlink:href=\"data:image/png;base64,\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\" y=\"-6.64\"/>\n   </g>\n   <g id=\"matplotlib.axis_1\">\n    <g id=\"xtick_1\">\n     <g id=\"line2d_1\">\n      <defs>\n       <path d=\"M 0 0 \nL 0 3.5 \n\" id=\"m9bb072cd42\" style=\"stroke:#000000;stroke-width:0.8;\"/>\n      </defs>\n      <g>\n       <use style=\"stroke:#000000;stroke-width:0.8;\" x=\"30.807857\" xlink:href=\"#m9bb072cd42\" y=\"224.64\"/>\n      </g>\n     </g>\n     <g id=\"text_1\">\n      <!-- 0 -->\n      <defs>\n       <path d=\"M 31.78125 66.40625 \nQ 24.171875 66.40625 20.328125 58.90625 \nQ 16.5 51.421875 16.5 36.375 \nQ 16.5 21.390625 20.328125 13.890625 \nQ 24.171875 6.390625 31.78125 6.390625 \nQ 39.453125 6.390625 43.28125 13.890625 \nQ 47.125 21.390625 47.125 36.375 \nQ 47.125 51.421875 43.28125 58.90625 \nQ 39.453125 66.40625 31.78125 66.40625 \nz\nM 31.78125 74.21875 \nQ 44.046875 74.21875 50.515625 64.515625 \nQ 56.984375 54.828125 56.984375 36.375 \nQ 56.984375 17.96875 50.515625 8.265625 \nQ 44.046875 -1.421875 31.78125 -1.421875 \nQ 19.53125 -1.421875 13.0625 8.265625 \nQ 6.59375 17.96875 6.59375 36.375 \nQ 6.59375 54.828125 13.0625 64.515625 \nQ 19.53125 74.21875 31.78125 74.21875 \nz\n\" id=\"DejaVuSans-48\"/>\n      </defs>\n      <g transform=\"translate(27.626607 239.238437)scale(0.1 -0.1)\">\n       <use xlink:href=\"#DejaVuSans-48\"/>\n      </g>\n     </g>\n    </g>\n    <g id=\"xtick_2\">\n     <g id=\"line2d_2\">\n      <g>\n       <use style=\"stroke:#000000;stroke-width:0.8;\" x=\"69.636429\" xlink:href=\"#m9bb072cd42\" y=\"224.64\"/>\n      </g>\n     </g>\n     <g id=\"text_2\">\n      <!-- 5 -->\n      <defs>\n       <path d=\"M 10.796875 72.90625 \nL 49.515625 72.90625 \nL 49.515625 64.59375 \nL 19.828125 64.59375 \nL 19.828125 46.734375 \nQ 21.96875 47.46875 24.109375 47.828125 \nQ 26.265625 48.1875 28.421875 48.1875 \nQ 40.625 48.1875 47.75 41.5 \nQ 54.890625 34.8125 54.890625 23.390625 \nQ 54.890625 11.625 47.5625 5.09375 \nQ 40.234375 -1.421875 26.90625 -1.421875 \nQ 22.3125 -1.421875 17.546875 -0.640625 \nQ 12.796875 0.140625 7.71875 1.703125 \nL 7.71875 11.625 \nQ 12.109375 9.234375 16.796875 8.0625 \nQ 21.484375 6.890625 26.703125 6.890625 \nQ 35.15625 6.890625 40.078125 11.328125 \nQ 45.015625 15.765625 45.015625 23.390625 \nQ 45.015625 31 40.078125 35.4375 \nQ 35.15625 39.890625 26.703125 39.890625 \nQ 22.75 39.890625 18.8125 39.015625 \nQ 14.890625 38.140625 10.796875 36.28125 \nz\n\" id=\"DejaVuSans-53\"/>\n      </defs>\n      <g transform=\"translate(66.455179 239.238437)scale(0.1 -0.1)\">\n       <use xlink:href=\"#DejaVuSans-53\"/>\n      </g>\n     </g>\n    </g>\n    <g id=\"xtick_3\">\n     <g id=\"line2d_3\">\n      <g>\n       <use style=\"stroke:#000000;stroke-width:0.8;\" x=\"108.465\" xlink:href=\"#m9bb072cd42\" y=\"224.64\"/>\n      </g>\n     </g>\n     <g id=\"text_3\">\n      <!-- 10 -->\n      <defs>\n       <path d=\"M 12.40625 8.296875 \nL 28.515625 8.296875 \nL 28.515625 63.921875 \nL 10.984375 60.40625 \nL 10.984375 69.390625 \nL 28.421875 72.90625 \nL 38.28125 72.90625 \nL 38.28125 8.296875 \nL 54.390625 8.296875 \nL 54.390625 0 \nL 12.40625 0 \nz\n\" id=\"DejaVuSans-49\"/>\n      </defs>\n      <g transform=\"translate(102.1025 239.238437)scale(0.1 -0.1)\">\n       <use xlink:href=\"#DejaVuSans-49\"/>\n       <use x=\"63.623047\" xlink:href=\"#DejaVuSans-48\"/>\n      </g>\n     </g>\n    </g>\n    <g id=\"xtick_4\">\n     <g id=\"line2d_4\">\n      <g>\n       <use style=\"stroke:#000000;stroke-width:0.8;\" x=\"147.293571\" xlink:href=\"#m9bb072cd42\" y=\"224.64\"/>\n      </g>\n     </g>\n     <g id=\"text_4\">\n      <!-- 15 -->\n      <g transform=\"translate(140.931071 239.238437)scale(0.1 -0.1)\">\n       <use xlink:href=\"#DejaVuSans-49\"/>\n       <use x=\"63.623047\" xlink:href=\"#DejaVuSans-53\"/>\n      </g>\n     </g>\n    </g>\n    <g id=\"xtick_5\">\n     <g id=\"line2d_5\">\n      <g>\n       <use style=\"stroke:#000000;stroke-width:0.8;\" x=\"186.122143\" xlink:href=\"#m9bb072cd42\" y=\"224.64\"/>\n      </g>\n     </g>\n     <g id=\"text_5\">\n      <!-- 20 -->\n      <defs>\n       <path d=\"M 19.1875 8.296875 \nL 53.609375 8.296875 \nL 53.609375 0 \nL 7.328125 0 \nL 7.328125 8.296875 \nQ 12.9375 14.109375 22.625 23.890625 \nQ 32.328125 33.6875 34.8125 36.53125 \nQ 39.546875 41.84375 41.421875 45.53125 \nQ 43.3125 49.21875 43.3125 52.78125 \nQ 43.3125 58.59375 39.234375 62.25 \nQ 35.15625 65.921875 28.609375 65.921875 \nQ 23.96875 65.921875 18.8125 64.3125 \nQ 13.671875 62.703125 7.8125 59.421875 \nL 7.8125 69.390625 \nQ 13.765625 71.78125 18.9375 73 \nQ 24.125 74.21875 28.421875 74.21875 \nQ 39.75 74.21875 46.484375 68.546875 \nQ 53.21875 62.890625 53.21875 53.421875 \nQ 53.21875 48.921875 51.53125 44.890625 \nQ 49.859375 40.875 45.40625 35.40625 \nQ 44.1875 33.984375 37.640625 27.21875 \nQ 31.109375 20.453125 19.1875 8.296875 \nz\n\" id=\"DejaVuSans-50\"/>\n      </defs>\n      <g transform=\"translate(179.759643 239.238437)scale(0.1 -0.1)\">\n       <use xlink:href=\"#DejaVuSans-50\"/>\n       <use x=\"63.623047\" xlink:href=\"#DejaVuSans-48\"/>\n      </g>\n     </g>\n    </g>\n    <g id=\"xtick_6\">\n     <g id=\"line2d_6\">\n      <g>\n       <use style=\"stroke:#000000;stroke-width:0.8;\" x=\"224.950714\" xlink:href=\"#m9bb072cd42\" y=\"224.64\"/>\n      </g>\n     </g>\n     <g id=\"text_6\">\n      <!-- 25 -->\n      <g transform=\"translate(218.588214 239.238437)scale(0.1 -0.1)\">\n       <use xlink:href=\"#DejaVuSans-50\"/>\n       <use x=\"63.623047\" xlink:href=\"#DejaVuSans-53\"/>\n      </g>\n     </g>\n    </g>\n   </g>\n   <g id=\"matplotlib.axis_2\">\n    <g id=\"ytick_1\">\n     <g id=\"line2d_7\">\n      <defs>\n       <path d=\"M 0 0 \nL -3.5 0 \n\" id=\"m7a825f4ee2\" style=\"stroke:#000000;stroke-width:0.8;\"/>\n      </defs>\n      <g>\n       <use style=\"stroke:#000000;stroke-width:0.8;\" x=\"26.925\" xlink:href=\"#m7a825f4ee2\" y=\"11.082857\"/>\n      </g>\n     </g>\n     <g id=\"text_7\">\n      <!-- 0 -->\n      <g transform=\"translate(13.5625 14.882076)scale(0.1 -0.1)\">\n       <use xlink:href=\"#DejaVuSans-48\"/>\n      </g>\n     </g>\n    </g>\n    <g id=\"ytick_2\">\n     <g id=\"line2d_8\">\n      <g>\n       <use style=\"stroke:#000000;stroke-width:0.8;\" x=\"26.925\" xlink:href=\"#m7a825f4ee2\" y=\"49.911429\"/>\n      </g>\n     </g>\n     <g id=\"text_8\">\n      <!-- 5 -->\n      <g transform=\"translate(13.5625 53.710647)scale(0.1 -0.1)\">\n       <use xlink:href=\"#DejaVuSans-53\"/>\n      </g>\n     </g>\n    </g>\n    <g id=\"ytick_3\">\n     <g id=\"line2d_9\">\n      <g>\n       <use style=\"stroke:#000000;stroke-width:0.8;\" x=\"26.925\" xlink:href=\"#m7a825f4ee2\" y=\"88.74\"/>\n      </g>\n     </g>\n     <g id=\"text_9\">\n      <!-- 10 -->\n      <g transform=\"translate(7.2 92.539219)scale(0.1 -0.1)\">\n       <use xlink:href=\"#DejaVuSans-49\"/>\n       <use x=\"63.623047\" xlink:href=\"#DejaVuSans-48\"/>\n      </g>\n     </g>\n    </g>\n    <g id=\"ytick_4\">\n     <g id=\"line2d_10\">\n      <g>\n       <use style=\"stroke:#000000;stroke-width:0.8;\" x=\"26.925\" xlink:href=\"#m7a825f4ee2\" y=\"127.568571\"/>\n      </g>\n     </g>\n     <g id=\"text_10\">\n      <!-- 15 -->\n      <g transform=\"translate(7.2 131.36779)scale(0.1 -0.1)\">\n       <use xlink:href=\"#DejaVuSans-49\"/>\n       <use x=\"63.623047\" xlink:href=\"#DejaVuSans-53\"/>\n      </g>\n     </g>\n    </g>\n    <g id=\"ytick_5\">\n     <g id=\"line2d_11\">\n      <g>\n       <use style=\"stroke:#000000;stroke-width:0.8;\" x=\"26.925\" xlink:href=\"#m7a825f4ee2\" y=\"166.397143\"/>\n      </g>\n     </g>\n     <g id=\"text_11\">\n      <!-- 20 -->\n      <g transform=\"translate(7.2 170.196362)scale(0.1 -0.1)\">\n       <use xlink:href=\"#DejaVuSans-50\"/>\n       <use x=\"63.623047\" xlink:href=\"#DejaVuSans-48\"/>\n      </g>\n     </g>\n    </g>\n    <g id=\"ytick_6\">\n     <g id=\"line2d_12\">\n      <g>\n       <use style=\"stroke:#000000;stroke-width:0.8;\" x=\"26.925\" xlink:href=\"#m7a825f4ee2\" y=\"205.225714\"/>\n      </g>\n     </g>\n     <g id=\"text_12\">\n      <!-- 25 -->\n      <g transform=\"translate(7.2 209.024933)scale(0.1 -0.1)\">\n       <use xlink:href=\"#DejaVuSans-50\"/>\n       <use x=\"63.623047\" xlink:href=\"#DejaVuSans-53\"/>\n      </g>\n     </g>\n    </g>\n   </g>\n   <g id=\"patch_3\">\n    <path d=\"M 26.925 224.64 \nL 26.925 7.2 \n\" style=\"fill:none;stroke:#000000;stroke-linecap:square;stroke-linejoin:miter;stroke-width:0.8;\"/>\n   </g>\n   <g id=\"patch_4\">\n    <path d=\"M 244.365 224.64 \nL 244.365 7.2 \n\" style=\"fill:none;stroke:#000000;stroke-linecap:square;stroke-linejoin:miter;stroke-width:0.8;\"/>\n   </g>\n   <g id=\"patch_5\">\n    <path d=\"M 26.925 224.64 \nL 244.365 224.64 \n\" style=\"fill:none;stroke:#000000;stroke-linecap:square;stroke-linejoin:miter;stroke-width:0.8;\"/>\n   </g>\n   <g id=\"patch_6\">\n    <path d=\"M 26.925 7.2 \nL 244.365 7.2 \n\" style=\"fill:none;stroke:#000000;stroke-linecap:square;stroke-linejoin:miter;stroke-width:0.8;\"/>\n   </g>\n  </g>\n </g>\n <defs>\n  <clipPath id=\"pdb8fa3b662\">\n   <rect height=\"217.44\" width=\"217.44\" x=\"26.925\" y=\"7.2\"/>\n  </clipPath>\n </defs>\n</svg>\n"
          },
          "metadata": {
            "tags": [],
            "needs_background": "light"
          }
        }
      ]
    }
  ]
}